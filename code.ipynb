{
 "cells": [
  {
   "cell_type": "markdown",
   "metadata": {
    "id": "TqcaH7lsZgdR"
   },
   "source": [
    "# Drunkard's Walk (Caminhada do bêbado)"
   ]
  },
  {
   "cell_type": "markdown",
   "metadata": {
    "id": "XleBJZtDZsQ5"
   },
   "source": [
    "### Modulos"
   ]
  },
  {
   "cell_type": "code",
   "execution_count": 2,
   "metadata": {
    "id": "_02-SjhFZWiQ"
   },
   "outputs": [],
   "source": [
    "import numpy as np\n",
    "import matplotlib.pyplot as plt\n",
    "import random"
   ]
  },
  {
   "cell_type": "markdown",
   "metadata": {
    "id": "qPurYoayaMT3"
   },
   "source": [
    "### Função para gerar Matriz de Transição."
   ]
  },
  {
   "cell_type": "code",
   "execution_count": 6,
   "metadata": {
    "colab": {
     "base_uri": "https://localhost:8080/"
    },
    "id": "GVzoqMsWaYSS",
    "outputId": "e9ec00fa-fc15-44db-d612-e21baf620b96"
   },
   "outputs": [
    {
     "name": "stdout",
     "output_type": "stream",
     "text": [
      "Probabilidade de ir para direita: 0.50\n",
      "Probabilidade de ir para esquerda: 0.50\n",
      "Posição da casa: 7\n",
      "Posição do bar: 1\n"
     ]
    }
   ],
   "source": [
    "def Gera_MatrizTransicao(direito, dimensao):\n",
    "    esquerdo = 1 - direito\n",
    "    MatrizTransicao = np.diag(esquerdo*np.ones(dimensao), k=-1) + np.diag(direito*np.ones(dimensao), k=1) \n",
    "    MatrizTransicao[0, :] = 0\n",
    "    MatrizTransicao[0, 0] = 1\n",
    "    MatrizTransicao[dimensao, :] = 0\n",
    "    MatrizTransicao[dimensao, dimensao] = 1\n",
    "    return MatrizTransicao\n",
    "X = float(input('Probabilidade de ir para direita: '))\n",
    "print(f'Probabilidade de ir para esquerda: {1-X:.2f}')\n",
    "Y = int(input('Posição da casa: '))\n",
    "bar = int(input('Posição do bar: '))\n",
    "Matriz_trans = Gera_MatrizTransicao(X,Y)"
   ]
  },
  {
   "cell_type": "markdown",
   "metadata": {
    "id": "yaHDVcmVfAx3"
   },
   "source": [
    "### Matriz de Transição"
   ]
  },
  {
   "cell_type": "code",
   "execution_count": 7,
   "metadata": {
    "colab": {
     "base_uri": "https://localhost:8080/"
    },
    "id": "UVAA7VUAfEsI",
    "outputId": "a09d6113-a360-4692-f595-a01a13a253a6"
   },
   "outputs": [
    {
     "data": {
      "text/plain": [
       "array([[1. , 0. , 0. , 0. , 0. , 0. , 0. , 0. ],\n",
       "       [0.5, 0. , 0.5, 0. , 0. , 0. , 0. , 0. ],\n",
       "       [0. , 0.5, 0. , 0.5, 0. , 0. , 0. , 0. ],\n",
       "       [0. , 0. , 0.5, 0. , 0.5, 0. , 0. , 0. ],\n",
       "       [0. , 0. , 0. , 0.5, 0. , 0.5, 0. , 0. ],\n",
       "       [0. , 0. , 0. , 0. , 0.5, 0. , 0.5, 0. ],\n",
       "       [0. , 0. , 0. , 0. , 0. , 0.5, 0. , 0.5],\n",
       "       [0. , 0. , 0. , 0. , 0. , 0. , 0. , 1. ]])"
      ]
     },
     "execution_count": 7,
     "metadata": {},
     "output_type": "execute_result"
    }
   ],
   "source": [
    "Matriz_trans"
   ]
  },
  {
   "cell_type": "markdown",
   "metadata": {
    "id": "vVGCxaOtlQUV"
   },
   "source": [
    "### Forma Canônica"
   ]
  },
  {
   "cell_type": "code",
   "execution_count": 9,
   "metadata": {
    "colab": {
     "base_uri": "https://localhost:8080/"
    },
    "id": "xs41RmgMlWhy",
    "outputId": "aaeb354d-f84e-451b-b4d5-0ac2bb1c9d4f"
   },
   "outputs": [
    {
     "name": "stdout",
     "output_type": "stream",
     "text": [
      "\n",
      "Matriz de estado transiente\n",
      "\n",
      "[[0.  0.5 0.  0.  0.  0. ]\n",
      " [0.5 0.  0.5 0.  0.  0. ]\n",
      " [0.  0.5 0.  0.5 0.  0. ]\n",
      " [0.  0.  0.5 0.  0.5 0. ]\n",
      " [0.  0.  0.  0.5 0.  0.5]\n",
      " [0.  0.  0.  0.  0.5 0. ]] \n",
      "\n",
      "\n",
      "Matriz Transiente --> Absorvente\n",
      "\n",
      "[[0.5 0. ]\n",
      " [0.  0. ]\n",
      " [0.  0. ]\n",
      " [0.  0. ]\n",
      " [0.  0. ]\n",
      " [0.  0.5]] \n",
      "\n",
      "\n",
      "Matriz Nula\n",
      "\n",
      "[[0. 0. 0. 0. 0. 0.]\n",
      " [0. 0. 0. 0. 0. 0.]]\n",
      "\n",
      "Matriz Identidade\n",
      "\n",
      "[[1. 0.]\n",
      " [0. 1.]] \n",
      "\n"
     ]
    }
   ],
   "source": [
    "A = [0, Y]\n",
    "B = range(1, Y)\n",
    "P = Gera_MatrizTransicao(X,Y)\n",
    "Matriz_Identidade = P[np.ix_(A, A)]\n",
    "Matriz_Absorvente = P[np.ix_(B, A)]\n",
    "Matriz_Transiente = P[np.ix_(B, B)]\n",
    "Matriz_nula = np.zeros([len(Matriz_Identidade),len(Matriz_Transiente)])\n",
    "print(\"\\nMatriz de estado transiente\\n\")\n",
    "print(Matriz_Transiente,\"\\n\")\n",
    "print(\"\\nMatriz Transiente --> Absorvente\\n\")\n",
    "print(Matriz_Absorvente,\"\\n\")\n",
    "print(\"\\nMatriz Nula\\n\")\n",
    "print(Matriz_nula)\n",
    "print(\"\\nMatriz Identidade\\n\")\n",
    "print(Matriz_Identidade,\"\\n\")"
   ]
  },
  {
   "cell_type": "markdown",
   "metadata": {
    "id": "uJgnTJk4n4en"
   },
   "source": [
    "### Matriz Fundamental"
   ]
  },
  {
   "cell_type": "code",
   "execution_count": 10,
   "metadata": {
    "colab": {
     "base_uri": "https://localhost:8080/"
    },
    "id": "T18HmbuqoAvG",
    "outputId": "fc75a1cb-4770-4be8-89c8-6c142190aed6"
   },
   "outputs": [
    {
     "name": "stdout",
     "output_type": "stream",
     "text": [
      "\n",
      "Matriz fundamental\n",
      "\n",
      "[[1.714 1.429 1.143 0.857 0.571 0.286]\n",
      " [1.429 2.857 2.286 1.714 1.143 0.571]\n",
      " [1.143 2.286 3.429 2.571 1.714 0.857]\n",
      " [0.857 1.714 2.571 3.429 2.286 1.143]\n",
      " [0.571 1.143 1.714 2.286 2.857 1.429]\n",
      " [0.286 0.571 0.857 1.143 1.429 1.714]] \n",
      "\n",
      "\n",
      "Vetor t\n",
      "\n",
      "[ 6. 10. 12. 12. 10.  6.] \n",
      "\n",
      "\n",
      "Matriz B\n",
      "\n",
      "[[0.857 0.143]\n",
      " [0.714 0.286]\n",
      " [0.571 0.429]\n",
      " [0.429 0.571]\n",
      " [0.286 0.714]\n",
      " [0.143 0.857]] \n",
      "\n"
     ]
    }
   ],
   "source": [
    "Matriz_indent_fundamental= (np.eye(len(Matriz_Transiente)))\n",
    "Subtracao = np.subtract(Matriz_indent_fundamental,Matriz_Transiente)\n",
    "matriz_fundamental = np.linalg.inv(Subtracao)\n",
    "\n",
    "print(\"\\nMatriz fundamental\\n\")\n",
    "np.set_printoptions(suppress = True, precision=3)\n",
    "print(matriz_fundamental,\"\\n\")\n",
    "\n",
    "Vetor_t = matriz_fundamental.sum(axis=1)\n",
    "matriz_b = np.dot(matriz_fundamental,Matriz_Absorvente)\n",
    "print(\"\\nVetor t\\n\")\n",
    "np.set_printoptions(precision=0)\n",
    "print(Vetor_t,\"\\n\")\n",
    "np.set_printoptions(suppress = True, precision=3)\n",
    "print(\"\\nMatriz B\\n\")\n",
    "print(matriz_b,\"\\n\")\n",
    "\n"
   ]
  },
  {
   "cell_type": "markdown",
   "metadata": {
    "id": "eLT5GW3kQzgW"
   },
   "source": [
    "\n",
    "### Calculo de Autovalores e Autovetores"
   ]
  },
  {
   "cell_type": "code",
   "execution_count": 11,
   "metadata": {
    "colab": {
     "base_uri": "https://localhost:8080/"
    },
    "id": "KIcSV050RCyG",
    "outputId": "ffa53850-a859-4f98-ba62-e82673a85230"
   },
   "outputs": [
    {
     "name": "stdout",
     "output_type": "stream",
     "text": [
      "\n",
      "Autovalores\n",
      "\n",
      "[ 1.     1.    -0.901 -0.623  0.901  0.623 -0.223  0.223]\n",
      "\n",
      "\n",
      "Matriz de autovetores normalizados\n",
      "\n",
      "[[ 1.     0.     0.061 -0.127  0.605  0.437 -0.204 -0.303]\n",
      " [ 0.     0.    -0.231  0.411 -0.12  -0.329  0.499  0.471]\n",
      " [ 0.     0.     0.416 -0.513 -0.216 -0.41  -0.222  0.21 ]\n",
      " [ 0.     0.    -0.519  0.228 -0.269 -0.182 -0.4   -0.378]\n",
      " [ 0.     0.     0.519  0.228 -0.269  0.182  0.4   -0.378]\n",
      " [ 0.     0.    -0.416 -0.513 -0.216  0.41   0.222  0.21 ]\n",
      " [ 0.     0.     0.231  0.411 -0.12   0.329 -0.499  0.471]\n",
      " [ 0.     1.    -0.061 -0.127  0.605 -0.437  0.204 -0.303]]\n",
      "\n"
     ]
    }
   ],
   "source": [
    "np.set_printoptions(suppress= True,precision=3)\n",
    "autovalor, autovetor = np.linalg.eig(Matriz_trans.T)\n",
    "print('\\nAutovalores\\n')\n",
    "print(autovalor)\n",
    "print()\n",
    "\n",
    "print('\\nMatriz de autovetores normalizados\\n')\n",
    "print(autovetor)\n",
    "print()"
   ]
  },
  {
   "cell_type": "markdown",
   "metadata": {
    "id": "jrx8AyrWrfxR"
   },
   "source": [
    "### Decomposição espectral"
   ]
  },
  {
   "cell_type": "code",
   "execution_count": 13,
   "metadata": {
    "colab": {
     "base_uri": "https://localhost:8080/"
    },
    "id": "4tIszfLgrsfz",
    "outputId": "afac156c-4f88-40ed-ca92-7a98567a9440"
   },
   "outputs": [
    {
     "name": "stdout",
     "output_type": "stream",
     "text": [
      "\n",
      "(matriz S)\n",
      "\n",
      "[[ 1.     0.     0.061 -0.127  0.605  0.437 -0.204 -0.303]\n",
      " [ 0.     0.    -0.231  0.411 -0.12  -0.329  0.499  0.471]\n",
      " [ 0.     0.     0.416 -0.513 -0.216 -0.41  -0.222  0.21 ]\n",
      " [ 0.     0.    -0.519  0.228 -0.269 -0.182 -0.4   -0.378]\n",
      " [ 0.     0.     0.519  0.228 -0.269  0.182  0.4   -0.378]\n",
      " [ 0.     0.    -0.416 -0.513 -0.216  0.41   0.222  0.21 ]\n",
      " [ 0.     0.     0.231  0.411 -0.12   0.329 -0.499  0.471]\n",
      " [ 0.     1.    -0.061 -0.127  0.605 -0.437  0.204 -0.303]]\n",
      "\n",
      "\n",
      "Matriz Diagonal (matriz Λ)\n",
      "\n",
      "[[ 1.     0.     0.     0.     0.     0.     0.     0.   ]\n",
      " [ 0.     1.     0.     0.     0.     0.     0.     0.   ]\n",
      " [ 0.     0.    -0.901  0.     0.     0.     0.     0.   ]\n",
      " [ 0.     0.     0.    -0.623  0.     0.     0.     0.   ]\n",
      " [ 0.     0.     0.     0.     0.901  0.     0.     0.   ]\n",
      " [ 0.     0.     0.     0.     0.     0.623  0.     0.   ]\n",
      " [ 0.     0.     0.     0.     0.     0.    -0.223  0.   ]\n",
      " [ 0.     0.     0.     0.     0.     0.     0.     0.223]]\n",
      "\n",
      "\n",
      "Matriz de autovetores inversa (Matriz S-¹)\n",
      "\n",
      "[[ 1.     0.857  0.714  0.571  0.429  0.286  0.143  0.   ]\n",
      " [ 0.     0.143  0.286  0.429  0.571  0.714  0.857  1.   ]\n",
      " [ 0.    -0.233  0.419 -0.523  0.523 -0.419  0.233  0.   ]\n",
      " [-0.     0.425 -0.53   0.236  0.236 -0.53   0.425 -0.   ]\n",
      " [-0.    -0.449 -0.808 -1.008 -1.008 -0.808 -0.449 -0.   ]\n",
      " [ 0.    -0.531 -0.662 -0.295  0.295  0.662  0.531  0.   ]\n",
      " [-0.     0.544 -0.242 -0.436  0.436  0.242 -0.544 -0.   ]\n",
      " [ 0.     0.577  0.257 -0.462 -0.462  0.257  0.577  0.   ]]\n",
      "\n",
      "\n",
      "Decomposição Espectral (SΛS-¹)\n",
      "\n",
      "[[ 1.   0.5  0.  -0.  -0.  -0.  -0.   0. ]\n",
      " [ 0.   0.   0.5  0.   0.   0.   0.   0. ]\n",
      " [ 0.   0.5 -0.   0.5 -0.   0.   0.   0. ]\n",
      " [ 0.   0.   0.5  0.   0.5 -0.  -0.   0. ]\n",
      " [ 0.   0.  -0.   0.5 -0.   0.5  0.   0. ]\n",
      " [ 0.   0.  -0.  -0.   0.5 -0.   0.5  0. ]\n",
      " [ 0.  -0.  -0.   0.   0.   0.5  0.   0. ]\n",
      " [ 0.  -0.  -0.  -0.  -0.   0.   0.5  1. ]]\n",
      "\n"
     ]
    }
   ],
   "source": [
    "np.set_printoptions(suppress= True,precision=3)\n",
    "print('\\n(matriz S)\\n')\n",
    "print(autovetor)\n",
    "print()\n",
    "\n",
    "print('\\nMatriz Diagonal (matriz Λ)\\n')\n",
    "matrizdiagonal = np.diag(autovalor)\n",
    "print(matrizdiagonal)\n",
    "print()\n",
    "\n",
    "print('\\nMatriz de autovetores inversa (Matriz S-¹)\\n')\n",
    "matrizAutovetoresInversa = np.linalg.inv(autovetor)\n",
    "print(matrizAutovetoresInversa)\n",
    "print()\n",
    "\n",
    "print('\\nDecomposição Espectral (SΛS-¹)\\n')\n",
    "decomposição_sas = np.matmul(np.matmul(autovetor,matrizdiagonal),np.linalg.inv(autovetor))\n",
    "print(decomposição_sas)\n",
    "print()"
   ]
  },
  {
   "cell_type": "markdown",
   "metadata": {
    "id": "Hr7Gg2cpfOkP"
   },
   "source": [
    "# Simulação Drunkard's Walk\n"
   ]
  },
  {
   "cell_type": "code",
   "execution_count": 19,
   "metadata": {
    "colab": {
     "base_uri": "https://localhost:8080/",
     "height": 267
    },
    "id": "-FuOtyRefYst",
    "outputId": "3141198e-9829-41ce-c5eb-dd0ed9732733"
   },
   "outputs": [
    {
     "name": "stdout",
     "output_type": "stream",
     "text": [
      "posição inicial do bebado: 4\n",
      "\n"
     ]
    },
    {
     "data": {
      "image/png": "[encoded data removed]",
      "text/plain": [
       "<Figure size 432x288 with 1 Axes>"
      ]
     },
     "metadata": {
      "needs_background": "light"
     },
     "output_type": "display_data"
    },
    {
     "name": "stdout",
     "output_type": "stream",
     "text": [
      "\n",
      "Ele chegou no bar após 23 passos.\n"
     ]
    }
   ],
   "source": [
    "tabela=[]\n",
    "while True:\n",
    "    pos_beb = int(input('posição inicial do bebado: '))\n",
    "    print()\n",
    "    if (pos_beb>=Y or pos_beb<=0):\n",
    "        print('Valor Inválido')\n",
    "    else:\n",
    "        valor_atual=pos_beb\n",
    "        tabela.append(valor_atual)\n",
    "        break\n",
    "fim = 0\n",
    "while True:\n",
    "    fim +=1\n",
    "    aleatorio = random.random()\n",
    "    if (aleatorio > X):\n",
    "        valor_atual-=1\n",
    "        tabela.append(valor_atual)\n",
    "    else:\n",
    "        valor_atual+=1\n",
    "        tabela.append(valor_atual)\n",
    "\n",
    "    if (valor_atual == Y or valor_atual == bar):\n",
    "        break\n",
    "\n",
    "#fig = plt.figure(figsize=(6,3),dpi=200)\n",
    "\n",
    "plt.title('The Drunkard’s Walk',fontsize = 18, c='b')\n",
    "plt.plot(tabela,c='r', lw=2, ls='-',marker='o')\n",
    "plt.axis([0,fim,bar,Y])\n",
    "plt.xlabel(\"Passos\",fontsize = 10)\n",
    "plt.ylabel(\"Posição (x)\",fontsize = 10)\n",
    "plt.show()\n",
    "print()\n",
    "passos = 0\n",
    "for i in tabela:\n",
    "  passos += 1\n",
    "if tabela[-1] == bar:\n",
    "  print(f'Ele chegou no bar após {passos-1} passos.') \n",
    "else:\n",
    "  print(f'Ele chegou em casa após {passos-1} passos.') "
   ]
  },
  {
   "cell_type": "code",
   "execution_count": null,
   "metadata": {},
   "outputs": [],
   "source": []
  }
 ],
 "metadata": {
  "colab": {
   "collapsed_sections": [],
   "name": "Drunkard_walk_ALC.ipynb",
   "provenance": []
  },
  "kernelspec": {
   "display_name": "Python 3",
   "language": "python",
   "name": "python3"
  },
  "language_info": {
   "codemirror_mode": {
    "name": "ipython",
    "version": 3
   },
   "file_extension": ".py",
   "mimetype": "text/x-python",
   "name": "python",
   "nbconvert_exporter": "python",
   "pygments_lexer": "ipython3",
   "version": "3.9.0"
  }
 },
 "nbformat": 4,
 "nbformat_minor": 1
}
